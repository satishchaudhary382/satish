{
  "nbformat": 4,
  "nbformat_minor": 0,
  "metadata": {
    "colab": {
      "name": "Welcome To Colaboratory",
      "provenance": [],
      "collapsed_sections": [],
      "include_colab_link": true
    },
    "kernelspec": {
      "display_name": "Python 3",
      "name": "python3"
    }
  },
  "cells": [
    {
      "cell_type": "markdown",
      "metadata": {
        "id": "view-in-github",
        "colab_type": "text"
      },
      "source": [
        "<a href=\"https://colab.research.google.com/github/satishchaudhary382/satish/blob/master/stock%20trading.ipynb\" target=\"_parent\"><img src=\"https://colab.research.google.com/assets/colab-badge.svg\" alt=\"Open In Colab\"/></a>"
      ]
    },
    {
      "cell_type": "code",
      "metadata": {
        "id": "lfW3m9DvYPG4",
        "colab_type": "code",
        "colab": {}
      },
      "source": [
        "import numpy as np \n",
        "import pandas as pd\n",
        "import matplotlib.pyplot as plt\n",
        "import seaborn as sns\n",
        "sns.set()"
      ],
      "execution_count": 0,
      "outputs": []
    },
    {
      "cell_type": "code",
      "metadata": {
        "id": "sBpQV46wYPI9",
        "colab_type": "code",
        "colab": {}
      },
      "source": [
        "df = pd.read_csv(\"/content/nic.txt\", sep='\\t', parse_dates=['Date'])"
      ],
      "execution_count": 0,
      "outputs": []
    },
    {
      "cell_type": "code",
      "metadata": {
        "id": "bwz43o4UYPKU",
        "colab_type": "code",
        "colab": {
          "base_uri": "https://localhost:8080/",
          "height": 407
        },
        "outputId": "7089156e-3b85-4ca6-9bd9-190134dfa2e6"
      },
      "source": [
        "df"
      ],
      "execution_count": 208,
      "outputs": [
        {
          "output_type": "execute_result",
          "data": {
            "text/html": [
              "<div>\n",
              "<style scoped>\n",
              "    .dataframe tbody tr th:only-of-type {\n",
              "        vertical-align: middle;\n",
              "    }\n",
              "\n",
              "    .dataframe tbody tr th {\n",
              "        vertical-align: top;\n",
              "    }\n",
              "\n",
              "    .dataframe thead th {\n",
              "        text-align: right;\n",
              "    }\n",
              "</style>\n",
              "<table border=\"1\" class=\"dataframe\">\n",
              "  <thead>\n",
              "    <tr style=\"text-align: right;\">\n",
              "      <th></th>\n",
              "      <th>Date</th>\n",
              "      <th>Open</th>\n",
              "      <th>High</th>\n",
              "      <th>Low</th>\n",
              "      <th>Close</th>\n",
              "      <th>Volume</th>\n",
              "    </tr>\n",
              "  </thead>\n",
              "  <tbody>\n",
              "    <tr>\n",
              "      <th>0</th>\n",
              "      <td>2019-03-24</td>\n",
              "      <td>393</td>\n",
              "      <td>399</td>\n",
              "      <td>393</td>\n",
              "      <td>396</td>\n",
              "      <td>11361</td>\n",
              "    </tr>\n",
              "    <tr>\n",
              "      <th>1</th>\n",
              "      <td>2019-03-25</td>\n",
              "      <td>394</td>\n",
              "      <td>400</td>\n",
              "      <td>394</td>\n",
              "      <td>398</td>\n",
              "      <td>8113</td>\n",
              "    </tr>\n",
              "    <tr>\n",
              "      <th>2</th>\n",
              "      <td>2019-03-26</td>\n",
              "      <td>398</td>\n",
              "      <td>400</td>\n",
              "      <td>395</td>\n",
              "      <td>398</td>\n",
              "      <td>15558</td>\n",
              "    </tr>\n",
              "    <tr>\n",
              "      <th>3</th>\n",
              "      <td>2019-03-27</td>\n",
              "      <td>400</td>\n",
              "      <td>400</td>\n",
              "      <td>397</td>\n",
              "      <td>398</td>\n",
              "      <td>13921</td>\n",
              "    </tr>\n",
              "    <tr>\n",
              "      <th>4</th>\n",
              "      <td>2019-03-28</td>\n",
              "      <td>403</td>\n",
              "      <td>403</td>\n",
              "      <td>396</td>\n",
              "      <td>398</td>\n",
              "      <td>15408</td>\n",
              "    </tr>\n",
              "    <tr>\n",
              "      <th>...</th>\n",
              "      <td>...</td>\n",
              "      <td>...</td>\n",
              "      <td>...</td>\n",
              "      <td>...</td>\n",
              "      <td>...</td>\n",
              "      <td>...</td>\n",
              "    </tr>\n",
              "    <tr>\n",
              "      <th>240</th>\n",
              "      <td>2020-03-15</td>\n",
              "      <td>545</td>\n",
              "      <td>547</td>\n",
              "      <td>518</td>\n",
              "      <td>518</td>\n",
              "      <td>215664</td>\n",
              "    </tr>\n",
              "    <tr>\n",
              "      <th>241</th>\n",
              "      <td>2020-03-16</td>\n",
              "      <td>518</td>\n",
              "      <td>531</td>\n",
              "      <td>511</td>\n",
              "      <td>522</td>\n",
              "      <td>246391</td>\n",
              "    </tr>\n",
              "    <tr>\n",
              "      <th>242</th>\n",
              "      <td>2020-03-17</td>\n",
              "      <td>522</td>\n",
              "      <td>522</td>\n",
              "      <td>501</td>\n",
              "      <td>508</td>\n",
              "      <td>197047</td>\n",
              "    </tr>\n",
              "    <tr>\n",
              "      <th>243</th>\n",
              "      <td>2020-03-18</td>\n",
              "      <td>511</td>\n",
              "      <td>518</td>\n",
              "      <td>491</td>\n",
              "      <td>502</td>\n",
              "      <td>166700</td>\n",
              "    </tr>\n",
              "    <tr>\n",
              "      <th>244</th>\n",
              "      <td>2020-03-19</td>\n",
              "      <td>498</td>\n",
              "      <td>515</td>\n",
              "      <td>482</td>\n",
              "      <td>509</td>\n",
              "      <td>192055</td>\n",
              "    </tr>\n",
              "  </tbody>\n",
              "</table>\n",
              "<p>245 rows × 6 columns</p>\n",
              "</div>"
            ],
            "text/plain": [
              "          Date  Open  High  Low  Close  Volume\n",
              "0   2019-03-24   393   399  393    396   11361\n",
              "1   2019-03-25   394   400  394    398    8113\n",
              "2   2019-03-26   398   400  395    398   15558\n",
              "3   2019-03-27   400   400  397    398   13921\n",
              "4   2019-03-28   403   403  396    398   15408\n",
              "..         ...   ...   ...  ...    ...     ...\n",
              "240 2020-03-15   545   547  518    518  215664\n",
              "241 2020-03-16   518   531  511    522  246391\n",
              "242 2020-03-17   522   522  501    508  197047\n",
              "243 2020-03-18   511   518  491    502  166700\n",
              "244 2020-03-19   498   515  482    509  192055\n",
              "\n",
              "[245 rows x 6 columns]"
            ]
          },
          "metadata": {
            "tags": []
          },
          "execution_count": 208
        }
      ]
    },
    {
      "cell_type": "code",
      "metadata": {
        "id": "rrUOlskxYPLc",
        "colab_type": "code",
        "colab": {}
      },
      "source": [
        "def abcd(trend, skip_loop = 4, ma = 20):\n",
        "    ma = pd.Series(trend).rolling(ma).mean().values\n",
        "    x = []\n",
        "    for a in range(ma.shape[0]):\n",
        "        for b in range(a, ma.shape[0], skip_loop):\n",
        "            for c in range(b, ma.shape[0], skip_loop):\n",
        "                for d in range(c, ma.shape[0], skip_loop):\n",
        "                    if ma[b] > ma[a] and \\\n",
        "                    (ma[c] < ma[b] and ma[c] > ma[a]) \\\n",
        "                    and ma[d] > ma[b]:\n",
        "                        x.append([a,b,c,d])\n",
        "    x_np = np.array(x)\n",
        "    ac = x_np[:,0].tolist() + x_np[:,2].tolist()\n",
        "    bd = x_np[:,1].tolist() + x_np[:,3].tolist()\n",
        "    ac_set = set(ac)\n",
        "    bd_set = set(bd)\n",
        "    signal = np.zeros(len(trend))\n",
        "    buy = list(ac_set - bd_set)\n",
        "    sell = list(list(bd_set - ac_set))\n",
        "    signal[buy] = 1.0\n",
        "    signal[sell] = -1.0\n",
        "    return signal"
      ],
      "execution_count": 0,
      "outputs": []
    },
    {
      "cell_type": "code",
      "metadata": {
        "id": "fUSFRdH5cNvj",
        "colab_type": "code",
        "colab": {}
      },
      "source": [
        "data = df\n",
        "data['ma'] = data['Close'].rolling(7).mean()\n",
        "data['ma2'] = data['Close'].rolling(20).mean()\n",
        "\n",
        "def a(data):\n",
        "  if (data['Close'] < data['ma'] ) and (data['Close'] < data['ma']):\n",
        "    return 1\n",
        "  elif (data['Close'] > data['ma'] ) and (data['Close'] > data['ma']):\n",
        "    return -1\n",
        "  else:\n",
        "    return 0"
      ],
      "execution_count": 0,
      "outputs": []
    },
    {
      "cell_type": "code",
      "metadata": {
        "id": "gH92LSd83vuj",
        "colab_type": "code",
        "colab": {}
      },
      "source": [
        "data['Result'] = data.apply(a,axis=1)\n",
        "\n",
        "#u = []\n",
        "#if (data['Close'][35])<(data['ma'][35]) & (data['Close'][35])<(data['ma2'][35]) :\n",
        "#  u.append(1)\n",
        "#elif (data['Close'][35]>data['ma'][35]) and (data['Close'][35]>data['ma2'][35]):\n",
        "#  u.append(-1)\n",
        "#else:\n",
        "#  u.append(0)\n"
      ],
      "execution_count": 0,
      "outputs": []
    },
    {
      "cell_type": "code",
      "metadata": {
        "id": "kqT6gOb2dCTr",
        "colab_type": "code",
        "colab": {}
      },
      "source": [
        "s = np.array(data['Result'])"
      ],
      "execution_count": 0,
      "outputs": []
    },
    {
      "cell_type": "code",
      "metadata": {
        "id": "TQCcqzagYPWP",
        "colab_type": "code",
        "colab": {
          "base_uri": "https://localhost:8080/",
          "height": 54
        },
        "outputId": "b14b1404-a37e-473e-fa95-06bb529ec808"
      },
      "source": [
        "%%time\n",
        "signal = abcd(df['Close'])"
      ],
      "execution_count": 175,
      "outputs": [
        {
          "output_type": "stream",
          "text": [
            "CPU times: user 1.03 s, sys: 4.54 ms, total: 1.03 s\n",
            "Wall time: 1.04 s\n"
          ],
          "name": "stdout"
        }
      ]
    },
    {
      "cell_type": "code",
      "metadata": {
        "id": "Qdh39JUZYPTC",
        "colab_type": "code",
        "colab": {
          "base_uri": "https://localhost:8080/",
          "height": 363
        },
        "outputId": "8e72365d-af90-4a54-f51b-176ad6b1438a"
      },
      "source": [
        "signal"
      ],
      "execution_count": 176,
      "outputs": [
        {
          "output_type": "execute_result",
          "data": {
            "text/plain": [
              "array([ 0.,  0.,  0.,  0.,  0.,  0.,  0.,  0.,  0.,  0.,  0.,  0.,  0.,\n",
              "        0.,  0.,  0.,  0.,  0.,  0.,  1.,  1.,  1.,  1.,  0.,  0.,  0.,\n",
              "        0.,  0.,  0.,  0.,  0.,  0.,  0.,  0., -1., -1., -1., -1., -1.,\n",
              "        0.,  0.,  0.,  0.,  0.,  0.,  0.,  0.,  0.,  0.,  0.,  0.,  0.,\n",
              "        0.,  0.,  0.,  0.,  0.,  0.,  0.,  0.,  0.,  0.,  0.,  0.,  0.,\n",
              "        0.,  0.,  0.,  0.,  0.,  0.,  0.,  0.,  0.,  0.,  0.,  0.,  0.,\n",
              "        0.,  0.,  0.,  0.,  1.,  0.,  0.,  0.,  1.,  0.,  0.,  0.,  0.,\n",
              "        0.,  0.,  0.,  0.,  0.,  0.,  0.,  0.,  0.,  0.,  0.,  0.,  0.,\n",
              "        0.,  0.,  0.,  0.,  0.,  1.,  0.,  0.,  0.,  0.,  0.,  0.,  1.,\n",
              "        0.,  0.,  0.,  1.,  0.,  0.,  0.,  0.,  0.,  0.,  0.,  0.,  0.,\n",
              "        0.,  0.,  0.,  0.,  0.,  0.,  0.,  0.,  0.,  0.,  0.,  0.,  0.,\n",
              "        0.,  0.,  0.,  0.,  0.,  0.,  0.,  0.,  0.,  0.,  0.,  0.,  0.,\n",
              "        0.,  0.,  0.,  0.,  0.,  0.,  0.,  0.,  0.,  0.,  0.,  0.,  0.,\n",
              "        0.,  0.,  0.,  0.,  0.,  0.,  0.,  0.,  0.,  0.,  0.,  0.,  0.,\n",
              "        0.,  0.,  0.,  0.,  0.,  0.,  0.,  0.,  0.,  0.,  0.,  0.,  0.,\n",
              "        0.,  0.,  0.,  0.,  0.,  0.,  0.,  0.,  0.,  0.,  0.,  0.,  1.,\n",
              "        0.,  1.,  1.,  0.,  0.,  0.,  0.,  0.,  0.,  0.,  0.,  0.,  0.,\n",
              "        0.,  0.,  0.,  0., -1., -1., -1., -1., -1., -1., -1., -1., -1.,\n",
              "       -1., -1., -1., -1., -1., -1., -1., -1., -1., -1., -1.])"
            ]
          },
          "metadata": {
            "tags": []
          },
          "execution_count": 176
        }
      ]
    },
    {
      "cell_type": "code",
      "metadata": {
        "id": "UBseeT4uYPSL",
        "colab_type": "code",
        "colab": {}
      },
      "source": [
        "def buy_stock(\n",
        "    real_movement,\n",
        "    signal,\n",
        "    initial_money = 25000,\n",
        "    max_buy = 10,\n",
        "    max_sell = 10,\n",
        "):\n",
        "    \"\"\"\n",
        "    real_movement = actual movement in the real world\n",
        "    delay = how much interval you want to delay to change our decision from buy to sell, vice versa\n",
        "    initial_state = 1 is buy, 0 is sell\n",
        "    initial_money = 10000, ignore what kind of currency\n",
        "    max_buy = max quantity for share to buy\n",
        "    max_sell = max quantity for share to sell\n",
        "    \"\"\"\n",
        "    starting_money = initial_money\n",
        "    states_sell = []\n",
        "    states_buy = []\n",
        "    states_money = []\n",
        "    current_inventory = 0\n",
        "    \n",
        "    def buy(i, initial_money, current_inventory):\n",
        "        shares = initial_money // real_movement[i]\n",
        "        if shares < 1:\n",
        "            print(\n",
        "                'day %d: total balances %f, not enough money to buy a unit price %f'\n",
        "                % (i, initial_money, real_movement[i])\n",
        "            )\n",
        "        else:\n",
        "            if shares > max_buy:\n",
        "                buy_units = max_buy\n",
        "            else:\n",
        "                buy_units = shares\n",
        "            initial_money -= buy_units * real_movement[i]\n",
        "            current_inventory += buy_units\n",
        "            print(\n",
        "                'day %d: buy %d units at price %f, total balance %f'\n",
        "                % (i, buy_units, buy_units * real_movement[i], initial_money)\n",
        "            )\n",
        "            states_buy.append(0)\n",
        "        return initial_money, current_inventory\n",
        "    \n",
        "    for i in range(real_movement.shape[0]):\n",
        "        state = signal[i]\n",
        "        if state == 1:\n",
        "            initial_money, current_inventory = buy(\n",
        "                i, initial_money, current_inventory\n",
        "            )\n",
        "            states_buy.append(i)\n",
        "        elif state == -1:\n",
        "            if current_inventory == 0:\n",
        "                    print('day %d: cannot sell anything, inventory 0' % (i))\n",
        "            else:\n",
        "                if current_inventory > max_sell:\n",
        "                    sell_units = max_sell\n",
        "                else:\n",
        "                    sell_units = current_inventory\n",
        "                current_inventory -= sell_units\n",
        "                total_sell = sell_units * real_movement[i]\n",
        "                initial_money += total_sell\n",
        "                try:\n",
        "                    invest = (\n",
        "                        (real_movement[i] - real_movement[states_buy[-1]])\n",
        "                        / real_movement[states_buy[-1]]\n",
        "                    ) * 100\n",
        "                except:\n",
        "                    invest = 0\n",
        "                print(\n",
        "                    'day %d, sell %d units at price %f, investment %f %%, total balance %f,'\n",
        "                    % (i, sell_units, total_sell, invest, initial_money)\n",
        "                )\n",
        "            states_sell.append(i)\n",
        "        states_money.append(initial_money)\n",
        "            \n",
        "    invest = ((initial_money - starting_money) / starting_money) * 100\n",
        "    total_gains = initial_money - starting_money\n",
        "    return states_buy, states_sell, total_gains, invest, states_money"
      ],
      "execution_count": 0,
      "outputs": []
    },
    {
      "cell_type": "code",
      "metadata": {
        "id": "nfu2YysrYPQ-",
        "colab_type": "code",
        "colab": {
          "base_uri": "https://localhost:8080/",
          "height": 690
        },
        "outputId": "8303ebed-c333-4847-8753-8eddaa03d979"
      },
      "source": [
        "states_buy, states_sell, total_gains, invest, states_money = buy_stock(df.Close, signal)\n"
      ],
      "execution_count": 188,
      "outputs": [
        {
          "output_type": "stream",
          "text": [
            "day 19: buy 10 units at price 4940.000000, total balance 20060.000000\n",
            "day 20: buy 10 units at price 4840.000000, total balance 15220.000000\n",
            "day 21: buy 10 units at price 4900.000000, total balance 10320.000000\n",
            "day 22: buy 10 units at price 5060.000000, total balance 5260.000000\n",
            "day 34, sell 10 units at price 4870.000000, investment -3.754941 %, total balance 10130.000000,\n",
            "day 35, sell 10 units at price 4930.000000, investment -2.569170 %, total balance 15060.000000,\n",
            "day 36, sell 10 units at price 4910.000000, investment -2.964427 %, total balance 19970.000000,\n",
            "day 37, sell 10 units at price 4900.000000, investment -3.162055 %, total balance 24870.000000,\n",
            "day 38: cannot sell anything, inventory 0\n",
            "day 82: buy 10 units at price 4630.000000, total balance 20240.000000\n",
            "day 86: buy 10 units at price 4590.000000, total balance 15650.000000\n",
            "day 109: buy 10 units at price 4390.000000, total balance 11260.000000\n",
            "day 116: buy 10 units at price 4480.000000, total balance 6780.000000\n",
            "day 120: buy 10 units at price 4480.000000, total balance 2300.000000\n",
            "day 207: buy 4 units at price 1868.000000, total balance 432.000000\n",
            "day 209: total balances 432.000000, not enough money to buy a unit price 475.000000\n",
            "day 210: total balances 432.000000, not enough money to buy a unit price 470.000000\n",
            "day 225, sell 10 units at price 5470.000000, investment 16.382979 %, total balance 5902.000000,\n",
            "day 226, sell 10 units at price 5540.000000, investment 17.872340 %, total balance 11442.000000,\n",
            "day 227, sell 10 units at price 5960.000000, investment 26.808511 %, total balance 17402.000000,\n",
            "day 228, sell 10 units at price 5940.000000, investment 26.382979 %, total balance 23342.000000,\n",
            "day 229, sell 10 units at price 5950.000000, investment 26.595745 %, total balance 29292.000000,\n",
            "day 230, sell 4 units at price 2440.000000, investment 29.787234 %, total balance 31732.000000,\n",
            "day 231: cannot sell anything, inventory 0\n",
            "day 232: cannot sell anything, inventory 0\n",
            "day 233: cannot sell anything, inventory 0\n",
            "day 234: cannot sell anything, inventory 0\n",
            "day 235: cannot sell anything, inventory 0\n",
            "day 236: cannot sell anything, inventory 0\n",
            "day 237: cannot sell anything, inventory 0\n",
            "day 238: cannot sell anything, inventory 0\n",
            "day 239: cannot sell anything, inventory 0\n",
            "day 240: cannot sell anything, inventory 0\n",
            "day 241: cannot sell anything, inventory 0\n",
            "day 242: cannot sell anything, inventory 0\n",
            "day 243: cannot sell anything, inventory 0\n",
            "day 244: cannot sell anything, inventory 0\n"
          ],
          "name": "stdout"
        }
      ]
    },
    {
      "cell_type": "code",
      "metadata": {
        "id": "PAG3lu_uYPPE",
        "colab_type": "code",
        "colab": {
          "base_uri": "https://localhost:8080/",
          "height": 302
        },
        "outputId": "415be93f-e5bb-42fa-fb7b-2e12d0a29955"
      },
      "source": [
        "close = df['Close']\n",
        "fig = plt.figure(figsize = (15,5))\n",
        "plt.plot(close, color='r', lw=2.)\n",
        "plt.plot(close, '^', markersize=10, color='m', label = 'buying signal', markevery = states_buy)\n",
        "plt.plot(close, 'v', markersize=10, color='k', label = 'selling signal', markevery = states_sell)\n",
        "plt.title('Total gains %f, Total investment %f%%'%(total_gains, invest))\n",
        "plt.legend()\n",
        "plt.show()"
      ],
      "execution_count": 189,
      "outputs": [
        {
          "output_type": "display_data",
          "data": {
            "image/png": "[encoded data removed]",
            "text/plain": [
              "<Figure size 1080x360 with 1 Axes>"
            ]
          },
          "metadata": {
            "tags": []
          }
        }
      ]
    },
    {
      "cell_type": "markdown",
      "metadata": {
        "id": "za9zvTxmMC3v",
        "colab_type": "text"
      },
      "source": [
        "Moving average\n"
      ]
    },
    {
      "cell_type": "code",
      "metadata": {
        "id": "ALwB8KhLLHUC",
        "colab_type": "code",
        "colab": {}
      },
      "source": [
        "short_window = 10#int(0.025 * len(df))\n",
        "long_window = 14#int(0.05 * len(df))\n",
        "\n",
        "signals = pd.DataFrame(index=df.index)\n",
        "signals['signal'] = 0.0\n",
        "\n",
        "signals['short_ma'] = df['Close'].rolling(window=short_window, min_periods=1, center=False).mean()\n",
        "signals['long_ma'] = df['Close'].rolling(window=long_window, min_periods=1, center=False).mean()\n",
        "\n",
        "signals['signal'][short_window:] = np.where(signals['short_ma'][short_window:] \n",
        "                                            > signals['long_ma'][short_window:], 1.0, 0.0)   \n",
        "signals['positions'] = signals['signal'].diff()\n",
        "\n",
        "s = np.array(signals['positions'])"
      ],
      "execution_count": 0,
      "outputs": []
    },
    {
      "cell_type": "code",
      "metadata": {
        "id": "0l_DB94TLOpb",
        "colab_type": "code",
        "colab": {}
      },
      "source": [
        "def buy_stock(\n",
        "    real_movement,\n",
        "    signal,\n",
        "    initial_money = 25000,\n",
        "    max_buy = 10,\n",
        "    max_sell = 10,\n",
        "):\n",
        "    \"\"\"\n",
        "    real_movement = actual movement in the real world\n",
        "    delay = how much interval you want to delay to change our decision from buy to sell, vice versa\n",
        "    initial_state = 1 is buy, 0 is sell\n",
        "    initial_money = 10000, ignore what kind of currency\n",
        "    max_buy = max quantity for share to buy\n",
        "    max_sell = max quantity for share to sell\n",
        "    \"\"\"\n",
        "    starting_money = initial_money\n",
        "    states_sell = []\n",
        "    states_buy = []\n",
        "    states_money = []\n",
        "    current_inventory = 0\n",
        "    \n",
        "    def buy(i, initial_money, current_inventory):\n",
        "        shares = initial_money // real_movement[i]\n",
        "        if shares < 1:\n",
        "            print(\n",
        "                'day %d: total balances %f, not enough money to buy a unit price %f'\n",
        "                % (i, initial_money, real_movement[i])\n",
        "            )\n",
        "        else:\n",
        "            if shares > max_buy:\n",
        "                buy_units = max_buy\n",
        "            else:\n",
        "                buy_units = shares\n",
        "            initial_money -= buy_units * real_movement[i]\n",
        "            current_inventory += buy_units\n",
        "            print(\n",
        "                'day %d: buy %d units at price %f, total balance %f'\n",
        "                % (i, buy_units, buy_units * real_movement[i], initial_money)\n",
        "            )\n",
        "            states_buy.append(0)\n",
        "        return initial_money, current_inventory\n",
        "    \n",
        "    for i in range(real_movement.shape[0]):\n",
        "        state = signal[i]\n",
        "        if state == 1:\n",
        "            initial_money, current_inventory = buy(\n",
        "                i, initial_money, current_inventory\n",
        "            )\n",
        "            states_buy.append(i)\n",
        "        elif state == -1:\n",
        "            if current_inventory == 0:\n",
        "                    print('day %d: cannot sell anything, inventory 0' % (i))\n",
        "            else:\n",
        "                if current_inventory > max_sell:\n",
        "                    sell_units = max_sell\n",
        "                else:\n",
        "                    sell_units = current_inventory\n",
        "                current_inventory -= sell_units\n",
        "                total_sell = sell_units * real_movement[i]\n",
        "                initial_money += total_sell\n",
        "                try:\n",
        "                    invest = (\n",
        "                        (real_movement[i] - real_movement[states_buy[-1]])\n",
        "                        / real_movement[states_buy[-1]]\n",
        "                    ) * 100\n",
        "                except:\n",
        "                    invest = 0\n",
        "                print(\n",
        "                    'day %d, sell %d units at price %f, investment %f %%, total balance %f,'\n",
        "                    % (i, sell_units, total_sell, invest, initial_money)\n",
        "                )\n",
        "            states_sell.append(i)\n",
        "        states_money.append(initial_money)\n",
        "            \n",
        "    invest = ((initial_money - starting_money) / starting_money) * 100\n",
        "    return states_buy, states_sell, total_gains, invest, states_money"
      ],
      "execution_count": 0,
      "outputs": []
    },
    {
      "cell_type": "code",
      "metadata": {
        "id": "nPpiKkDCMQ7s",
        "colab_type": "code",
        "colab": {
          "base_uri": "https://localhost:8080/",
          "height": 417
        },
        "outputId": "daeb70b2-714d-4240-9b53-0c398592388e"
      },
      "source": [
        "states_buy, states_sell, total_gains, invest, states_money = buy_stock(df.Close, s)\n"
      ],
      "execution_count": 252,
      "outputs": [
        {
          "output_type": "stream",
          "text": [
            "day 10: buy 10 units at price 4680.000000, total balance 20320.000000\n",
            "day 33, sell 10 units at price 4980.000000, investment 6.410256 %, total balance 25300.000000,\n",
            "day 38: buy 10 units at price 4840.000000, total balance 20460.000000\n",
            "day 39, sell 10 units at price 4830.000000, investment -0.206612 %, total balance 25290.000000,\n",
            "day 63: buy 10 units at price 4690.000000, total balance 20600.000000\n",
            "day 70, sell 10 units at price 4620.000000, investment -1.492537 %, total balance 25220.000000,\n",
            "day 84: buy 10 units at price 4740.000000, total balance 20480.000000\n",
            "day 94, sell 10 units at price 4530.000000, investment -4.430380 %, total balance 25010.000000,\n",
            "day 107: buy 10 units at price 4470.000000, total balance 20540.000000\n",
            "day 112, sell 10 units at price 4360.000000, investment -2.460850 %, total balance 24900.000000,\n",
            "day 119: buy 10 units at price 4470.000000, total balance 20430.000000\n",
            "day 122, sell 10 units at price 3800.000000, investment -14.988814 %, total balance 24230.000000,\n",
            "day 139: buy 10 units at price 3860.000000, total balance 20370.000000\n",
            "day 156, sell 10 units at price 4060.000000, investment 5.181347 %, total balance 24430.000000,\n",
            "day 159: buy 10 units at price 4110.000000, total balance 20320.000000\n",
            "day 168, sell 10 units at price 4040.000000, investment -1.703163 %, total balance 24360.000000,\n",
            "day 173: buy 10 units at price 4100.000000, total balance 20260.000000\n",
            "day 187, sell 10 units at price 4080.000000, investment -0.487805 %, total balance 24340.000000,\n",
            "day 193: buy 10 units at price 4400.000000, total balance 19940.000000\n",
            "day 214, sell 10 units at price 4810.000000, investment 9.318182 %, total balance 24750.000000,\n",
            "day 216: buy 10 units at price 4810.000000, total balance 19940.000000\n",
            "day 240, sell 10 units at price 5180.000000, investment 7.692308 %, total balance 25120.000000,\n"
          ],
          "name": "stdout"
        }
      ]
    },
    {
      "cell_type": "code",
      "metadata": {
        "id": "U6A-WwxjMUUj",
        "colab_type": "code",
        "colab": {
          "base_uri": "https://localhost:8080/",
          "height": 302
        },
        "outputId": "b313dde8-672e-4b6f-a3f0-de2a6f67a7b5"
      },
      "source": [
        "close = df['Close']\n",
        "fig = plt.figure(figsize = (15,5))\n",
        "plt.plot(close, color='r', lw=2.)\n",
        "plt.plot(close, '^', markersize=10, color='m', label = 'buying signal', markevery = states_buy)\n",
        "plt.plot(close, 'v', markersize=10, color='k', label = 'selling signal', markevery = states_sell)\n",
        "plt.title('total gains %f, total investment %f%%'%(total_gains, invest))\n",
        "plt.legend()\n",
        "plt.show()"
      ],
      "execution_count": 253,
      "outputs": [
        {
          "output_type": "display_data",
          "data": {
            "image/png": "[encoded data removed]",
            "text/plain": [
              "<Figure size 1080x360 with 1 Axes>"
            ]
          },
          "metadata": {
            "tags": []
          }
        }
      ]
    },
    {
      "cell_type": "code",
      "metadata": {
        "id": "uAjxXpNqMj4_",
        "colab_type": "code",
        "colab": {
          "base_uri": "https://localhost:8080/",
          "height": 286
        },
        "outputId": "f412e13a-9ed2-4d7b-9c63-211fdcd158d5"
      },
      "source": [
        "plt.plot(df['Close'])\n",
        "plt.plot(df['Close'].rolling(7).mean())\n",
        "plt.plot(df['Close'].rolling(10).mean())"
      ],
      "execution_count": 255,
      "outputs": [
        {
          "output_type": "execute_result",
          "data": {
            "text/plain": [
              "[<matplotlib.lines.Line2D at 0x7f7e6eec3e80>]"
            ]
          },
          "metadata": {
            "tags": []
          },
          "execution_count": 255
        },
        {
          "output_type": "display_data",
          "data": {
            "image/png": "[encoded data removed]",
            "text/plain": [
              "<Figure size 432x288 with 1 Axes>"
            ]
          },
          "metadata": {
            "tags": []
          }
        }
      ]
    },
    {
      "cell_type": "markdown",
      "metadata": {
        "id": "kMi9FkRmPv2L",
        "colab_type": "text"
      },
      "source": [
        "Evolution strategy"
      ]
    },
    {
      "cell_type": "code",
      "metadata": {
        "id": "M18SMq3GW_QT",
        "colab_type": "code",
        "colab": {}
      },
      "source": [
        "import pandas as pd\n",
        "import numpy as np\n",
        "\n",
        "import matplotlib.pyplot as plt\n"
      ],
      "execution_count": 0,
      "outputs": []
    },
    {
      "cell_type": "code",
      "metadata": {
        "id": "4Ifcx_ZjW_a-",
        "colab_type": "code",
        "colab": {
          "base_uri": "https://localhost:8080/",
          "height": 308
        },
        "outputId": "a17b63bb-093b-4244-8238-d6aa717c5688"
      },
      "source": [
        "nabil = pd.read_csv(\"/content/nabil.txt\", sep='\\t', parse_dates=['Date'])\n",
        "\n",
        "############\n",
        "# IMPORTATION #\n",
        "###############\n",
        "import sys\n",
        "import operator\n",
        "import numpy as np\n",
        "import pandas as pd\n",
        "\n",
        "\n",
        "def find_optimal_action(priceVec, transFeeRate, use_DP=True):\n",
        "\t\n",
        "\t_BUY = 1\n",
        "\t_HOLD = 0\n",
        "\t_SELL = -1\n",
        "\n",
        "\tdataLen = len(priceVec)\n",
        "\tactionVec = np.zeros(dataLen)\n",
        "\n",
        "\t# Dynamic Programming method\n",
        "\tif use_DP:\n",
        "\t\tcapital = 1\n",
        "\t\tmoney = [{'money' : 0, 'from' : 0 } for _ in range(dataLen)]\n",
        "\t\tstock = [{'stock' : 0, 'from' : 1 } for _ in range(dataLen)]\n",
        "\n",
        "\t\t# DP initialization\n",
        "\t\tmoney[0]['money'] = capital\n",
        "\t\tstock[0]['stock'] = capital * (1 - transFeeRate) / priceVec[0]\n",
        "\n",
        "\t\t# DP recursion\n",
        "\t\tfor t in range(1, dataLen):\n",
        "\t\t\t\n",
        "\t\t\t# find optimal for sell at time t:\n",
        "\t\t\thold = money[t - 1]['money']\n",
        "\t\t\tsell = stock[t - 1]['stock'] * priceVec[t] * (1 - transFeeRate)\n",
        "\n",
        "\t\t\tif hold > sell:\n",
        "\t\t\t\tmoney[t]['money'] = hold\n",
        "\t\t\t\tmoney[t]['from'] = 0\n",
        "\t\t\telse:\n",
        "\t\t\t\tmoney[t]['money'] = sell\n",
        "\t\t\t\tmoney[t]['from'] = 1\n",
        "\n",
        "\t\t\t# find optimal for buy at time t:\n",
        "\t\t\thold = stock[t - 1]['stock']\n",
        "\t\t\tbuy = money[t - 1]['money'] * (1 - transFeeRate) / priceVec[t]\n",
        "\n",
        "\t\t\tif hold > buy:\n",
        "\t\t\t\tstock[t]['stock'] = hold\n",
        "\t\t\t\tstock[t]['from'] = 1\n",
        "\t\t\telse:\n",
        "\t\t\t\tstock[t]['stock'] = buy\n",
        "\t\t\t\tstock[t]['from'] = 0\n",
        "\n",
        "\t\t# must sell at T\n",
        "\t\tprev = 0\n",
        "\t\tactionVec[-1] = _SELL\n",
        "\n",
        "\t\t# DP trace back\n",
        "\t\trecord = [money, stock]\n",
        "\t\tfor t in reversed(range(1, dataLen)):\n",
        "\t\t\tprev = record[prev][t]['from']\n",
        "\t\t\tactionVec[t - 1] = _SELL if prev == 0 else _BUY\n",
        "\t\t\n",
        "\t\t# Action smoothing\n",
        "\t\tprevAction = actionVec[0]\n",
        "\t\tfor t in range(1, dataLen):\n",
        "\t\t\tif actionVec[t] == prevAction:\n",
        "\t\t\t\tactionVec[t] = _HOLD\n",
        "\t\t\telif actionVec[t] == -prevAction:\n",
        "\t\t\t\tprevAction = actionVec[t]\n",
        "\n",
        "\t\treturn actionVec\n",
        "\n",
        "\t# Baseline method\n",
        "\telse:\n",
        "\t\tconCount = 3\n",
        "\t\tfor ic in range(dataLen):\n",
        "\t\t\tif ic + conCount + 1 > dataLen:\n",
        "\t\t\t\tcontinue\n",
        "\t\t\tif all(x > 0 for x in list(map(operator.sub,priceVec[ic+1:ic+1+conCount], priceVec[ic:ic+conCount]))):\n",
        "\t\t\t\tactionVec[ic] = _BUY\n",
        "\t\t\tif all(x < 0 for x in list(map(operator.sub,priceVec[ic+1:ic+1+conCount], priceVec[ic:ic+conCount]))):\n",
        "\t\t\t\tactionVec[ic] = _SELL\n",
        "\t\tprevAction = _SELL\n",
        "\n",
        "\t\tfor ic in range(dataLen):\n",
        "\t\t\tif actionVec[ic] == prevAction:\n",
        "\t\t\t\tactionVec[ic] = _HOLD\n",
        "\t\t\telif actionVec[ic] == -prevAction:\n",
        "\t\t\t\tprevAction = actionVec[ic]\n",
        "\t\treturn actionVec\n",
        "\n",
        "\n",
        "def profit_estimate(priceVec, transFeeRate, actionVec):\n",
        "\n",
        "\tcapital = 1\n",
        "\tcapitalOrig = capital\n",
        "\tdataCount = len(priceVec)\n",
        "\tsuggestedAction = actionVec\n",
        "\t\n",
        "\tstockHolding = np.zeros((dataCount))\n",
        "\ttotal = np.zeros((dataCount))\n",
        "\t\n",
        "\ttotal[0] = capital\n",
        "\n",
        "\tfor ic in range(dataCount):\n",
        "\t\tcurrPrice = priceVec[ic]\n",
        "\t\tif ic > 0:\n",
        "\t\t\tstockHolding[ic] = stockHolding[ic-1]\n",
        "\t\tif suggestedAction[ic] == 1:\n",
        "\t\t\tif stockHolding[ic] == 0:            \n",
        "\t\t\t\tstockHolding[ic] = capital * (1 - transFeeRate) / currPrice\n",
        "\t\t\t\tcapital = 0\n",
        "\n",
        "\t\telif suggestedAction[ic] == -1:\n",
        "\t\t\tif stockHolding[ic] > 0:\n",
        "\t\t\t\tcapital = stockHolding[ic] * currPrice * (1 - transFeeRate)\n",
        "\t\t\t\tstockHolding[ic] = 0\n",
        "\n",
        "\t\telif suggestedAction[ic] == 0:\n",
        "\t\t\tpass\n",
        "\t\telse:\n",
        "\t\t\tassert False\n",
        "\t\ttotal[ic] = capital + stockHolding[ic] * currPrice * (1 - transFeeRate)\n",
        "\treturnRate = (total[-1] - capitalOrig) / capitalOrig\n",
        "\treturn returnRate\n",
        "\n",
        "\n",
        "\n",
        "priceVec = nabil[\"Close\"].values\n",
        "transFeeRate = float(0.02)\n",
        "print('Optimizing over %i numbers of transactions.' % (len(priceVec)))\n",
        "\n",
        "actionVec = find_optimal_action(priceVec, transFeeRate)\n",
        "returnRate = profit_estimate(priceVec, transFeeRate, actionVec)\n",
        "print('Return rate: ', returnRate)\n",
        "print(actionVec)"
      ],
      "execution_count": 554,
      "outputs": [
        {
          "output_type": "stream",
          "text": [
            "Optimizing over 241 numbers of transactions.\n",
            "Return rate:  0.7477704458139665\n",
            "[-1.  0.  0.  1.  0.  0.  0.  0.  0.  0.  0.  0.  0.  0.  0.  0.  0.  0.\n",
            "  0.  0.  0. -1.  0.  0.  0.  0.  0.  0.  0.  0.  0.  0.  0.  0.  0.  0.\n",
            "  0.  0.  0.  0.  0.  0.  0.  0.  0.  0.  0.  0.  0.  0.  0.  0.  0.  0.\n",
            "  0.  0.  0.  0.  0.  0.  0.  0.  0.  0.  0.  0.  0.  0.  1.  0.  0.  0.\n",
            "  0.  0.  0.  0. -1.  0.  0.  0.  0.  0.  0.  0.  0.  0.  0.  0.  0.  0.\n",
            "  0.  0.  0.  0.  0.  0.  0.  0.  0.  0.  0.  0.  0.  0.  0.  0.  0.  0.\n",
            "  0.  0.  0.  0.  0.  0.  0.  0.  0.  0.  0.  0.  0.  0.  1.  0.  0. -1.\n",
            "  0.  0.  0.  0.  0.  0.  0.  0.  0.  0.  0.  0.  0.  0.  0.  0.  0.  0.\n",
            "  0.  0.  0.  0.  0.  0.  0.  0.  0.  0.  0.  0.  0.  0.  0.  0.  0.  0.\n",
            "  0.  0.  0.  0.  0.  1.  0.  0.  0.  0.  0.  0.  0.  0.  0.  0.  0.  0.\n",
            "  0.  0. -1.  0.  1.  0.  0.  0.  0.  0.  0.  0.  0.  0.  0.  0.  0.  0.\n",
            "  0.  0.  0.  0. -1.  0.  0.  0.  0.  1.  0.  0.  0.  0. -1.  0.  0.  0.\n",
            "  0.  0.  1.  0.  0.  0.  0.  0.  0.  0.  0.  0.  0.  0.  0. -1.  0.  1.\n",
            " -1.  0.  0.  1. -1.  0.  0.]\n"
          ],
          "name": "stdout"
        }
      ]
    },
    {
      "cell_type": "code",
      "metadata": {
        "id": "QJ23WNmTVCdg",
        "colab_type": "code",
        "colab": {
          "base_uri": "https://localhost:8080/",
          "height": 363
        },
        "outputId": "f491b360-05d8-4356-d877-130d2ac979e0"
      },
      "source": [
        "def buy_stock(\n",
        "    real_movement,\n",
        "    signal,\n",
        "    initial_money = 1000000,\n",
        "    max_buy = 100,\n",
        "    max_sell = 100,\n",
        "):\n",
        "    \"\"\"\n",
        "    real_movement = actual movement in the real world\n",
        "    delay = how much interval you want to delay to change our decision from buy to sell, vice versa\n",
        "    initial_state = 1 is buy, 0 is sell\n",
        "    initial_money = 10000, ignore what kind of currency\n",
        "    max_buy = max quantity for share to buy\n",
        "    max_sell = max quantity for share to sell\n",
        "    \"\"\"\n",
        "    starting_money = initial_money\n",
        "    states_sell = []\n",
        "    states_buy = []\n",
        "    states_money = []\n",
        "    current_inventory = 0\n",
        "    \n",
        "    def buy(i, initial_money, current_inventory):\n",
        "        shares = initial_money // real_movement[i]\n",
        "        if shares < 1:\n",
        "            print(\n",
        "                'day %d: total balances %f, not enough money to buy a unit price %f'\n",
        "                % (i, initial_money, real_movement[i])\n",
        "            )\n",
        "        else:\n",
        "            if shares > max_buy:\n",
        "                buy_units = max_buy\n",
        "            else:\n",
        "                buy_units = shares\n",
        "            initial_money -= buy_units * real_movement[i]\n",
        "            current_inventory += buy_units\n",
        "            c = buy_units * real_movement[i]\n",
        "            print(\n",
        "                'day %d: buy %d units at price %f, total balance %f'\n",
        "                % (i, buy_units, buy_units * real_movement[i], initial_money-(c*0.004)-(c*0.00015))\n",
        "            )\n",
        "            states_buy.append(0)\n",
        "        return initial_money, current_inventory\n",
        "    \n",
        "    for i in range(real_movement.shape[0]):\n",
        "        state = signal[i]\n",
        "        if state == 1:\n",
        "            initial_money, current_inventory = buy(\n",
        "                i, initial_money, current_inventory\n",
        "            )\n",
        "            states_buy.append(i)\n",
        "        elif state == -1:\n",
        "            if current_inventory == 0:\n",
        "                    print('day %d: cannot sell anything, inventory 0' % (i))\n",
        "            else:\n",
        "                if current_inventory > max_sell:\n",
        "                    sell_units = max_sell\n",
        "                else:\n",
        "                    sell_units = current_inventory\n",
        "                current_inventory -= sell_units\n",
        "                total_sell = sell_units * real_movement[i]\n",
        "                initial_money += total_sell\n",
        "                try:\n",
        "                    invest = (\n",
        "                        (real_movement[i] - real_movement[states_buy[-1]])\n",
        "                        / real_movement[states_buy[-1]]\n",
        "                    ) * 100\n",
        "                except:\n",
        "                    invest = 0\n",
        "                print(\n",
        "                    'day %d, sell %d units at price %f, investment %f %%, total balance %f,'\n",
        "                    % (i, sell_units, total_sell, invest, initial_money-(total_sell*0.004)-(total_sell*0.00015))\n",
        "                )\n",
        "            states_sell.append(i)\n",
        "        states_money.append(initial_money)\n",
        "            \n",
        "    invest = ((initial_money - starting_money) / starting_money) * 100\n",
        "    return states_buy, states_sell, total_gains, invest, states_money\n",
        "states_buy, states_sell, total_gains, invest, states_money = buy_stock(nabil.Close, actionVec)"
      ],
      "execution_count": 563,
      "outputs": [
        {
          "output_type": "stream",
          "text": [
            "day 0: cannot sell anything, inventory 0\n",
            "day 3: buy 100 units at price 70900.000000, total balance 928805.765000\n",
            "day 21, sell 100 units at price 88100.000000, investment 24.259520 %, total balance 1016834.385000,\n",
            "day 68: buy 100 units at price 78400.000000, total balance 938474.640000\n",
            "day 76, sell 100 units at price 82500.000000, investment 5.229592 %, total balance 1020957.625000,\n",
            "day 122: buy 100 units at price 74200.000000, total balance 946792.070000\n",
            "day 125, sell 100 units at price 77500.000000, investment 4.447439 %, total balance 1024278.375000,\n",
            "day 167: buy 100 units at price 72300.000000, total balance 951999.955000\n",
            "day 182, sell 100 units at price 75600.000000, investment 4.564315 %, total balance 1027586.260000,\n",
            "day 184: buy 100 units at price 66700.000000, total balance 960923.195000\n",
            "day 202, sell 100 units at price 76400.000000, investment 14.542729 %, total balance 1037282.940000,\n",
            "day 207: buy 100 units at price 71200.000000, total balance 966104.520000\n",
            "day 212, sell 100 units at price 75200.000000, investment 5.617978 %, total balance 1041287.920000,\n",
            "day 218: buy 100 units at price 72000.000000, total balance 969301.200000\n",
            "day 231, sell 100 units at price 95500.000000, investment 32.638889 %, total balance 1064703.675000,\n",
            "day 233: buy 100 units at price 85000.000000, total balance 979747.250000\n",
            "day 234, sell 100 units at price 88800.000000, investment 4.470588 %, total balance 1068531.480000,\n",
            "day 237: buy 100 units at price 77600.000000, total balance 990977.960000\n",
            "day 238, sell 100 units at price 81500.000000, investment 5.025773 %, total balance 1072461.775000,\n"
          ],
          "name": "stdout"
        }
      ]
    },
    {
      "cell_type": "code",
      "metadata": {
        "id": "QWCQxkX2Vz7q",
        "colab_type": "code",
        "colab": {
          "base_uri": "https://localhost:8080/",
          "height": 301
        },
        "outputId": "a4f2d471-15a9-4818-ed53-82630a2ba33e"
      },
      "source": [
        "close = nabil['Close']\n",
        "fig = plt.figure(figsize = (15,5))\n",
        "plt.plot(close, color='r', lw=2.)\n",
        "plt.plot(close, '^', markersize=10, color='m', label = 'buying signal', markevery = states_buy)\n",
        "plt.plot(close, 'v', markersize=10, color='k', label = 'selling signal', markevery = states_sell)\n",
        "plt.title('total gains %f, total investment %f%%'%((initial_money*invest)/100, invest))\n",
        "plt.legend()\n",
        "plt.show()"
      ],
      "execution_count": 564,
      "outputs": [
        {
          "output_type": "display_data",
          "data": {
            "image/png": "[encoded data removed]",
            "text/plain": [
              "<Figure size 1080x360 with 1 Axes>"
            ]
          },
          "metadata": {
            "tags": []
          }
        }
      ]
    },
    {
      "cell_type": "code",
      "metadata": {
        "id": "P6cP7_PwWaiV",
        "colab_type": "code",
        "colab": {
          "base_uri": "https://localhost:8080/",
          "height": 35
        },
        "outputId": "5de0d51e-1613-4d5a-8322-982fdc444079"
      },
      "source": [
        "nabil.shape"
      ],
      "execution_count": 541,
      "outputs": [
        {
          "output_type": "execute_result",
          "data": {
            "text/plain": [
              "(249, 6)"
            ]
          },
          "metadata": {
            "tags": []
          },
          "execution_count": 541
        }
      ]
    },
    {
      "cell_type": "code",
      "metadata": {
        "id": "UdTN5M8KXvFu",
        "colab_type": "code",
        "colab": {
          "base_uri": "https://localhost:8080/",
          "height": 35
        },
        "outputId": "82109c28-49ce-4c35-a7cb-689830c867e6"
      },
      "source": [
        "20000*(1.728)"
      ],
      "execution_count": 540,
      "outputs": [
        {
          "output_type": "execute_result",
          "data": {
            "text/plain": [
              "34560.0"
            ]
          },
          "metadata": {
            "tags": []
          },
          "execution_count": 540
        }
      ]
    },
    {
      "cell_type": "code",
      "metadata": {
        "id": "azJVsILbcUeq",
        "colab_type": "code",
        "colab": {}
      },
      "source": [
        ""
      ],
      "execution_count": 0,
      "outputs": []
    }
  ]
}